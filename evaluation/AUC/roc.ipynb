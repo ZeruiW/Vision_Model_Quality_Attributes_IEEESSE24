{
 "cells": [
  {
   "cell_type": "code",
   "execution_count": null,
   "metadata": {},
   "outputs": [],
   "source": [
    "import matplotlib.pyplot as plt\n",
    "\n",
    "def parse_data(filename):\n",
    "    with open(filename, 'r') as file:\n",
    "        lines = file.readlines()\n",
    "\n",
    "    tp_total = 0\n",
    "    for line in lines:\n",
    "        if line.startswith(\"Class\"):\n",
    "            parts = line.split('-')[1].split(',')\n",
    "            tp = int(parts[0].split(':')[1].strip())\n",
    "            tp_total += tp\n",
    "\n",
    "    return tp_total\n",
    "\n",
    "def calculate_tpr(tp, total_classes):\n",
    "    # 由于FP和TN都是0，我们无法计算FPR，所以假设它是一个常数\n",
    "    # 在这种情况下，我们只返回TPR\n",
    "    return tp / total_classes\n",
    "\n",
    "def main():\n",
    "    filename = 'your_file.txt'\n",
    "    total_classes = 1000  # 类别总数\n",
    "\n",
    "    tp_total = parse_data(filename)\n",
    "    tpr = calculate_tpr(tp_total, total_classes)\n",
    "\n",
    "    # 由于无法计算FPR，我们无法绘制传统的ROC曲线\n",
    "    # 但是我们可以输出TPR\n",
    "    print(\"True Positive Rate (TPR):\", tpr)\n",
    "\n",
    "if __name__ == \"__main__\":\n",
    "    main()\n"
   ]
  }
 ],
 "metadata": {
  "language_info": {
   "name": "python"
  }
 },
 "nbformat": 4,
 "nbformat_minor": 2
}
