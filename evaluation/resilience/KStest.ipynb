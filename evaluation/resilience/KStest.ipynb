{
 "cells": [
  {
   "cell_type": "markdown",
   "metadata": {},
   "source": [
    "1. Kolmogorov-Smirnov (K-S)检验\n",
    "K-S检验是一种非参数方法，用于比较一个样本与已知分布，或两个样本之间的分布。在这个场景中，我们使用K-S检验比较原始图片和热力图得到的预测分数的分布。\n",
    "\n",
    "应用步骤：\n",
    "\n",
    "数据整理：你应该已经有两个10000个预测分数的列表：一个来自原始图片，一个来自热力图。\n",
    "\n",
    "计算累积分布函数：对于原始图片和热力图的每一个预测分数，计算其在各自分布中的累积频率。\n",
    "\n",
    "计算D值：D值是两个累积分布之间的最大差异。\n",
    "\n",
    "\n",
    "比较D值与关键值：使用适当的显著性水平（例如α=0.05）和样本大小从K-S分布表中查找关键值。如果D值大于关键值，那么这两个分布是显著不同的。\n",
    "\n",
    "得出结论：基于上述比较，决定原始图片和热力图的预测分数分布是否有显著差异。"
   ]
  },
  {
   "cell_type": "code",
   "execution_count": 30,
   "metadata": {},
   "outputs": [
    {
     "name": "stdout",
     "output_type": "stream",
     "text": [
      "拒绝原假设，原始图片和热力图的预测分数分布存在显著差异. D=0.0418, p_value=5.1408099285917184e-08\n"
     ]
    }
   ],
   "source": [
    "import numpy as np\n",
    "from scipy.stats import ks_2samp\n",
    "\n",
    "# 假设 original_scores 和 heatmap_scores 是两个包含预测分数的列表\n",
    "\n",
    "# 1. 数据整理（模拟数据）\n",
    "\n",
    "original_scores = np.random.rand(10000)\n",
    "heatmap_scores = np.random.rand(10000) + np.random.normal(0, 0.1, 10000)  # 添加一些噪声以模拟差异\n",
    "\n",
    "# 2. 使用scipy的ks_2samp函数计算K-S统计量和p值\n",
    "D, p_value = ks_2samp(original_scores, heatmap_scores)\n",
    "\n",
    "# 3. 比较p值与显著性水平α\n",
    "alpha = 0.05\n",
    "if p_value < alpha:\n",
    "    print(f\"拒绝原假设，原始图片和热力图的预测分数分布存在显著差异. D={D}, p_value={p_value}\")\n",
    "else:\n",
    "    print(f\"接受原假设，原始图片和热力图的预测分数分布没有显著差异. D={D}, p_value={p_value}\")\n",
    "\n"
   ]
  }
 ],
 "metadata": {
  "kernelspec": {
   "display_name": "xai",
   "language": "python",
   "name": "python3"
  },
  "language_info": {
   "codemirror_mode": {
    "name": "ipython",
    "version": 3
   },
   "file_extension": ".py",
   "mimetype": "text/x-python",
   "name": "python",
   "nbconvert_exporter": "python",
   "pygments_lexer": "ipython3",
   "version": "3.10.9"
  }
 },
 "nbformat": 4,
 "nbformat_minor": 2
}
